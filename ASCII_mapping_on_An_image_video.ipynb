{
  "nbformat": 4,
  "nbformat_minor": 0,
  "metadata": {
    "colab": {
      "provenance": [],
      "authorship_tag": "ABX9TyPns0ciGBtYERu5KOOzMWo8",
      "include_colab_link": true
    },
    "kernelspec": {
      "name": "python3",
      "display_name": "Python 3"
    },
    "language_info": {
      "name": "python"
    }
  },
  "cells": [
    {
      "cell_type": "markdown",
      "metadata": {
        "id": "view-in-github",
        "colab_type": "text"
      },
      "source": [
        "<a href=\"https://colab.research.google.com/github/logolica99/ascii-image-mapping/blob/main/ASCII_mapping_on_An_image_video.ipynb\" target=\"_parent\"><img src=\"https://colab.research.google.com/assets/colab-badge.svg\" alt=\"Open In Colab\"/></a>"
      ]
    },
    {
      "cell_type": "code",
      "execution_count": 73,
      "metadata": {
        "id": "CqKZ7en5GP_p"
      },
      "outputs": [],
      "source": [
        "from PIL import Image\n",
        "import numpy as np\n",
        "from matplotlib.pyplot import imshow\n",
        "import math"
      ]
    },
    {
      "cell_type": "code",
      "source": [
        "im = Image.open(r\"/content/istockphoto-1213516345-612x612.jpg\")\n",
        "reszied_img = im.resize((64,32))\n",
        "img_arr = np.asarray(reszied_img)\n",
        "imshow(img_arr)"
      ],
      "metadata": {
        "colab": {
          "base_uri": "https://localhost:8080/",
          "height": 235
        },
        "id": "X7fCjo6VGXja",
        "outputId": "2a3ad25e-9625-4019-e9cb-5fd7386750df"
      },
      "execution_count": 96,
      "outputs": [
        {
          "output_type": "execute_result",
          "data": {
            "text/plain": [
              "<matplotlib.image.AxesImage at 0x7f49924bc810>"
            ]
          },
          "metadata": {},
          "execution_count": 96
        },
        {
          "output_type": "display_data",
          "data": {
            "text/plain": [
              "<Figure size 432x288 with 1 Axes>"
            ],
            "image/png": "[encoded data removed]"
          },
          "metadata": {
            "needs_background": "light"
          }
        }
      ]
    },
    {
      "cell_type": "code",
      "source": [
        "len(img_arr[0])"
      ],
      "metadata": {
        "colab": {
          "base_uri": "https://localhost:8080/"
        },
        "id": "ESwrr5YYJPnh",
        "outputId": "dcbba1aa-4857-43c1-a4cb-e6ece2c9ec42"
      },
      "execution_count": 78,
      "outputs": [
        {
          "output_type": "execute_result",
          "data": {
            "text/plain": [
              "28"
            ]
          },
          "metadata": {},
          "execution_count": 78
        }
      ]
    },
    {
      "cell_type": "code",
      "source": [
        "density =  \"$@B%8&WM#*oahkbdpqwmZO0QLCJUYXzcvunxrjft/\\|()1{}[]?-_+~<>i!lI;:,\\\"^`'. \""
      ],
      "metadata": {
        "id": "HMGuZoLzZjgK"
      },
      "execution_count": 85,
      "outputs": []
    },
    {
      "cell_type": "code",
      "source": [
        "mapped_arr =[]\n",
        "for i in range(len(img_arr)):\n",
        "  temp =[]\n",
        "  for j in range(len(img_arr[0])):\n",
        "    r = img_arr[i][j][0]\n",
        "    g = img_arr[i][j][1]\n",
        "    b = img_arr[i][j][2]\n",
        "    avg = (r+g+b)/3\n",
        "    index = math.floor(avg/255*70)-1\n",
        "   \n",
        "    temp.append(density[index])\n",
        "  mapped_arr.append(temp)"
      ],
      "metadata": {
        "colab": {
          "base_uri": "https://localhost:8080/"
        },
        "id": "BpUwBbGHPVQb",
        "outputId": "98918022-54ac-406e-d583-81749a6a2913"
      },
      "execution_count": 97,
      "outputs": [
        {
          "output_type": "stream",
          "name": "stderr",
          "text": [
            "/usr/local/lib/python3.7/dist-packages/ipykernel_launcher.py:8: RuntimeWarning: overflow encountered in ubyte_scalars\n",
            "  \n"
          ]
        }
      ]
    },
    {
      "cell_type": "code",
      "source": [
        "for i in range(len(mapped_arr)):\n",
        "  for j in range(len(mapped_arr[0])):\n",
        "    print(mapped_arr[i][j],end=\"\")\n",
        "  print()"
      ],
      "metadata": {
        "colab": {
          "base_uri": "https://localhost:8080/"
        },
        "id": "LAFp_5-AQD39",
        "outputId": "4f6c4792-6c9f-4cdb-d250-9c97cfe95675"
      },
      "execution_count": 98,
      "outputs": [
        {
          "output_type": "stream",
          "name": "stdout",
          "text": [
            "hhhhkkkkkkkkkkhhhkhhhhhhhhkkkkkkkkkkkkkkkkkkbbkkkkhhhaaaaaaahhhh\n",
            "hhhhkkkkkkkkkkkkkkkkkkkkkkkkkkkkkkkkkkkkkkka%obkkkkhhhhaaaaahhhk\n",
            "hhhkkkkkkkkkkkkkkkkkkkkkkkkkkkbbkkkkkkkkkbb0#hWbkkkhhhhhhhhhhhhk\n",
            "hhhhkkkkkkkkkkkkkkkkkkkkkkkkkbMBkbkkkkkkkb###ao#bkkkhhhhhhhhhhhh\n",
            "hhhhhkkkkkkkkkkkkkkkkkkkkkkkkkpMZkbkkbbbbbq&#M@dkkkhkhhhhhhhhhhh\n",
            "hhhhhhkkkkkkkkkkkkkkkkkkbbkkb8ad&dodbbbbd&#k#@@&&bkkkkkhhhhhhhhk\n",
            "hhhhhhkkkkkkkkkkkkbbbbbbbbbbdO8b*Wa$*abk$#Wqb#M8mkkkkkkkkkkkkkkk\n",
            "ahhhhhhkkkkkkkkkkkbbbbbbbbbbb8$8dwa8Md*qqMpakha&hMkkkkkkkkkkkkkk\n",
            "aaaahhhhhhkkkkkkkbbbbbbbbbbbbh# o$wBaq M0o@h&&#MMmkbbkkkkkkkkkkk\n",
            "aaahhhhhhhkkkkkkbbbbbbbbbbbbbkk$8hh*wOwbw@%ab&B%#$kbbbbbkkkkkkkk\n",
            "aaahhhhhhkkkkkkkbbbbbbbbbbbbbbp@B8&pp* mhZ8odma@8Ohbbbbbbbkkkkkk\n",
            "aaahhhhhhkkkkkkbbbbbbbbbbbbbbb$WB$MbhZOm#h#pB&mW k#bbbbbbbbkkkkk\n",
            "aaaahhhhkkkkkkkbbbbbbbbbbbbbbbow&@Mq OO#hOaoZBZM W obbbbbbbbkkkk\n",
            "aaaahhhhkkkkkkbbbbbbbbbbbbbbbbb&*$%ZOOkaaMkdO$ZZB8Bhbbbbbbbbbkkk\n",
            "aaaahhhhkkkkkkbbbbbbbbbbbbbbbbb%& @hkw&o80WaZZq%bW@#abbbbbbbkkkk\n",
            "aaaahhhhkkkkkkbbbbbbbbbbbbbbbbhO*@8MbM#dM*a&pq%qWM abbbbbbbkkkkk\n",
            "aaaahhhhkkkkkkbbbbbbbbbbbdddbbkhZMakmWhppbW&kpOk$Zapkbbbbbbbkkkk\n",
            "aaahhhhkkkkkkbbbbbbbbbbbbddddddbopkw$%M$8kmqwd*hkaW$bbbbbbbbbkkk\n",
            "aahhhhkkkkkkkbbbbbbbbbbbbddddddbhqW8ah o8qZhk@Wapqk@dbbbbbbbbbbb\n",
            "ahhhhhkkkkkkkbbbbbbbbbbbbbbdbdbdmBhdboWOM&@b@wWkdw*Zdbbbbbbbbbbb\n",
            "ahhhhhhkkkkkkbbbbbbbbbbbbbbdddbb@bdpd#B@$pdZqmWahp#qbbbbbbbbbbbb\n",
            "ahhhhhkkkkkkkbbbbbbbbbbbbbbbbdbbOodbba# %M$bOBMMapb%dkbbbbbbbbbb\n",
            "hhhhhhkkkkkkkbbbbbbbbbbbbbbbbbbbm*dooo#B@BB B&Wokpqamkbbbbbbbbbb\n",
            "hhhhhhhkkkkkkkbbbbbbbbbbbbbbbbbbBpqh**W8&&%B%&MMhbph0bkbbbbbbbbb\n",
            "hhhhhhhkkkkkkkkbbbbbbbbbbbbbbbbq*qqb*MMM&&88&%88*kdd$kkkkkkkbkkk\n",
            "hhhhhhhhkkkkkkkkkbbbbbbbbbbbbkbZhppdoWW8@8W8888WWkbb0ohkkkkkkkkk\n",
            "hhhhhhhhhkkkkkkkbbbbbbbbbbbbkkb #bpk#&*#&&%B%&&oakdab&akkkkkkkkk\n",
            "hhhhhhhhhkkkkkkbbbbbbbbbbbbbbbdwBbbhM%ao*oW8%B&Wkka%Bpobbbbbbbbb\n",
            "hhhhhkkkkkkkkbbbbbbbbbbbbbbbbbbkmhaaW#a*#o%%8W##oaapba8bbbbbbbbb\n",
            "hhhhkkkkkkbbbbbbbbbbbbbbdddddddhMWbh*h*oM&&B8**#ooa#kh bdbbbbbbb\n",
            "hkkkkkkbbbbbbbbbbbbddddddddddpda$@bka**k&oM#W%8Mokbqdkdadbbbbbbb\n",
            "kkbkkbbbbbbbbbbbbdddddddppppppph@ hhhao#&kMa@0%MhaaOph&Zkbbbbbbd\n"
          ]
        }
      ]
    }
  ]
}